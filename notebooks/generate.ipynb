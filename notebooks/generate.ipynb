{
  "nbformat": 4,
  "nbformat_minor": 0,
  "metadata": {
    "colab": {
      "name": "generate.ipynb",
      "provenance": [],
      "collapsed_sections": []
    },
    "kernelspec": {
      "name": "python3",
      "display_name": "Python 3"
    },
    "language_info": {
      "name": "python"
    },
    "accelerator": "GPU",
    "widgets": {
      "application/vnd.jupyter.widget-state+json": {
        "5a563cbedd5a4b678ced37a86ec7f44a": {
          "model_module": "@jupyter-widgets/controls",
          "model_name": "HBoxModel",
          "model_module_version": "1.5.0",
          "state": {
            "_view_name": "HBoxView",
            "_dom_classes": [],
            "_model_name": "HBoxModel",
            "_view_module": "@jupyter-widgets/controls",
            "_model_module_version": "1.5.0",
            "_view_count": null,
            "_view_module_version": "1.5.0",
            "box_style": "",
            "layout": "IPY_MODEL_385a0b37b44a4b6fbccfb9175ee6a71a",
            "_model_module": "@jupyter-widgets/controls",
            "children": [
              "IPY_MODEL_113235d373d14d78ae55450cd1b243da",
              "IPY_MODEL_58bba3cb914f4adfa8bdedd18665813c",
              "IPY_MODEL_376ebe7ce25d4fe289d927b4efdb587c"
            ]
          }
        },
        "385a0b37b44a4b6fbccfb9175ee6a71a": {
          "model_module": "@jupyter-widgets/base",
          "model_name": "LayoutModel",
          "model_module_version": "1.2.0",
          "state": {
            "_view_name": "LayoutView",
            "grid_template_rows": null,
            "right": null,
            "justify_content": null,
            "_view_module": "@jupyter-widgets/base",
            "overflow": null,
            "_model_module_version": "1.2.0",
            "_view_count": null,
            "flex_flow": null,
            "width": null,
            "min_width": null,
            "border": null,
            "align_items": null,
            "bottom": null,
            "_model_module": "@jupyter-widgets/base",
            "top": null,
            "grid_column": null,
            "overflow_y": null,
            "overflow_x": null,
            "grid_auto_flow": null,
            "grid_area": null,
            "grid_template_columns": null,
            "flex": null,
            "_model_name": "LayoutModel",
            "justify_items": null,
            "grid_row": null,
            "max_height": null,
            "align_content": null,
            "visibility": null,
            "align_self": null,
            "height": null,
            "min_height": null,
            "padding": null,
            "grid_auto_rows": null,
            "grid_gap": null,
            "max_width": null,
            "order": null,
            "_view_module_version": "1.2.0",
            "grid_template_areas": null,
            "object_position": null,
            "object_fit": null,
            "grid_auto_columns": null,
            "margin": null,
            "display": null,
            "left": null
          }
        },
        "113235d373d14d78ae55450cd1b243da": {
          "model_module": "@jupyter-widgets/controls",
          "model_name": "HTMLModel",
          "model_module_version": "1.5.0",
          "state": {
            "_view_name": "HTMLView",
            "style": "IPY_MODEL_c79b275275ff4b4fb9d9329e6bb7fbc6",
            "_dom_classes": [],
            "description": "",
            "_model_name": "HTMLModel",
            "placeholder": "​",
            "_view_module": "@jupyter-widgets/controls",
            "_model_module_version": "1.5.0",
            "value": "Generation round:   2%",
            "_view_count": null,
            "_view_module_version": "1.5.0",
            "description_tooltip": null,
            "_model_module": "@jupyter-widgets/controls",
            "layout": "IPY_MODEL_b4f5557e92c7437682c23ffa8918050d"
          }
        },
        "58bba3cb914f4adfa8bdedd18665813c": {
          "model_module": "@jupyter-widgets/controls",
          "model_name": "FloatProgressModel",
          "model_module_version": "1.5.0",
          "state": {
            "_view_name": "ProgressView",
            "style": "IPY_MODEL_361f490d9784407699d9f419a3b85ee8",
            "_dom_classes": [],
            "description": "",
            "_model_name": "FloatProgressModel",
            "bar_style": "",
            "max": 490000,
            "_view_module": "@jupyter-widgets/controls",
            "_model_module_version": "1.5.0",
            "value": 7802,
            "_view_count": null,
            "_view_module_version": "1.5.0",
            "orientation": "horizontal",
            "min": 0,
            "description_tooltip": null,
            "_model_module": "@jupyter-widgets/controls",
            "layout": "IPY_MODEL_aa59db29a88b4bb5aebd1a65d3185bc9"
          }
        },
        "376ebe7ce25d4fe289d927b4efdb587c": {
          "model_module": "@jupyter-widgets/controls",
          "model_name": "HTMLModel",
          "model_module_version": "1.5.0",
          "state": {
            "_view_name": "HTMLView",
            "style": "IPY_MODEL_0f1b6d4ac15d4b8487b2826285df9326",
            "_dom_classes": [],
            "description": "",
            "_model_name": "HTMLModel",
            "placeholder": "​",
            "_view_module": "@jupyter-widgets/controls",
            "_model_module_version": "1.5.0",
            "value": " 7802/490000 [01:02&lt;1:00:16, 133.33it/s]",
            "_view_count": null,
            "_view_module_version": "1.5.0",
            "description_tooltip": null,
            "_model_module": "@jupyter-widgets/controls",
            "layout": "IPY_MODEL_1b47d92f5d644250b850ee7efe18e4ca"
          }
        },
        "c79b275275ff4b4fb9d9329e6bb7fbc6": {
          "model_module": "@jupyter-widgets/controls",
          "model_name": "DescriptionStyleModel",
          "model_module_version": "1.5.0",
          "state": {
            "_view_name": "StyleView",
            "_model_name": "DescriptionStyleModel",
            "description_width": "",
            "_view_module": "@jupyter-widgets/base",
            "_model_module_version": "1.5.0",
            "_view_count": null,
            "_view_module_version": "1.2.0",
            "_model_module": "@jupyter-widgets/controls"
          }
        },
        "b4f5557e92c7437682c23ffa8918050d": {
          "model_module": "@jupyter-widgets/base",
          "model_name": "LayoutModel",
          "model_module_version": "1.2.0",
          "state": {
            "_view_name": "LayoutView",
            "grid_template_rows": null,
            "right": null,
            "justify_content": null,
            "_view_module": "@jupyter-widgets/base",
            "overflow": null,
            "_model_module_version": "1.2.0",
            "_view_count": null,
            "flex_flow": null,
            "width": null,
            "min_width": null,
            "border": null,
            "align_items": null,
            "bottom": null,
            "_model_module": "@jupyter-widgets/base",
            "top": null,
            "grid_column": null,
            "overflow_y": null,
            "overflow_x": null,
            "grid_auto_flow": null,
            "grid_area": null,
            "grid_template_columns": null,
            "flex": null,
            "_model_name": "LayoutModel",
            "justify_items": null,
            "grid_row": null,
            "max_height": null,
            "align_content": null,
            "visibility": null,
            "align_self": null,
            "height": null,
            "min_height": null,
            "padding": null,
            "grid_auto_rows": null,
            "grid_gap": null,
            "max_width": null,
            "order": null,
            "_view_module_version": "1.2.0",
            "grid_template_areas": null,
            "object_position": null,
            "object_fit": null,
            "grid_auto_columns": null,
            "margin": null,
            "display": null,
            "left": null
          }
        },
        "361f490d9784407699d9f419a3b85ee8": {
          "model_module": "@jupyter-widgets/controls",
          "model_name": "ProgressStyleModel",
          "model_module_version": "1.5.0",
          "state": {
            "_view_name": "StyleView",
            "_model_name": "ProgressStyleModel",
            "description_width": "",
            "_view_module": "@jupyter-widgets/base",
            "_model_module_version": "1.5.0",
            "_view_count": null,
            "_view_module_version": "1.2.0",
            "bar_color": null,
            "_model_module": "@jupyter-widgets/controls"
          }
        },
        "aa59db29a88b4bb5aebd1a65d3185bc9": {
          "model_module": "@jupyter-widgets/base",
          "model_name": "LayoutModel",
          "model_module_version": "1.2.0",
          "state": {
            "_view_name": "LayoutView",
            "grid_template_rows": null,
            "right": null,
            "justify_content": null,
            "_view_module": "@jupyter-widgets/base",
            "overflow": null,
            "_model_module_version": "1.2.0",
            "_view_count": null,
            "flex_flow": null,
            "width": null,
            "min_width": null,
            "border": null,
            "align_items": null,
            "bottom": null,
            "_model_module": "@jupyter-widgets/base",
            "top": null,
            "grid_column": null,
            "overflow_y": null,
            "overflow_x": null,
            "grid_auto_flow": null,
            "grid_area": null,
            "grid_template_columns": null,
            "flex": null,
            "_model_name": "LayoutModel",
            "justify_items": null,
            "grid_row": null,
            "max_height": null,
            "align_content": null,
            "visibility": null,
            "align_self": null,
            "height": null,
            "min_height": null,
            "padding": null,
            "grid_auto_rows": null,
            "grid_gap": null,
            "max_width": null,
            "order": null,
            "_view_module_version": "1.2.0",
            "grid_template_areas": null,
            "object_position": null,
            "object_fit": null,
            "grid_auto_columns": null,
            "margin": null,
            "display": null,
            "left": null
          }
        },
        "0f1b6d4ac15d4b8487b2826285df9326": {
          "model_module": "@jupyter-widgets/controls",
          "model_name": "DescriptionStyleModel",
          "model_module_version": "1.5.0",
          "state": {
            "_view_name": "StyleView",
            "_model_name": "DescriptionStyleModel",
            "description_width": "",
            "_view_module": "@jupyter-widgets/base",
            "_model_module_version": "1.5.0",
            "_view_count": null,
            "_view_module_version": "1.2.0",
            "_model_module": "@jupyter-widgets/controls"
          }
        },
        "1b47d92f5d644250b850ee7efe18e4ca": {
          "model_module": "@jupyter-widgets/base",
          "model_name": "LayoutModel",
          "model_module_version": "1.2.0",
          "state": {
            "_view_name": "LayoutView",
            "grid_template_rows": null,
            "right": null,
            "justify_content": null,
            "_view_module": "@jupyter-widgets/base",
            "overflow": null,
            "_model_module_version": "1.2.0",
            "_view_count": null,
            "flex_flow": null,
            "width": null,
            "min_width": null,
            "border": null,
            "align_items": null,
            "bottom": null,
            "_model_module": "@jupyter-widgets/base",
            "top": null,
            "grid_column": null,
            "overflow_y": null,
            "overflow_x": null,
            "grid_auto_flow": null,
            "grid_area": null,
            "grid_template_columns": null,
            "flex": null,
            "_model_name": "LayoutModel",
            "justify_items": null,
            "grid_row": null,
            "max_height": null,
            "align_content": null,
            "visibility": null,
            "align_self": null,
            "height": null,
            "min_height": null,
            "padding": null,
            "grid_auto_rows": null,
            "grid_gap": null,
            "max_width": null,
            "order": null,
            "_view_module_version": "1.2.0",
            "grid_template_areas": null,
            "object_position": null,
            "object_fit": null,
            "grid_auto_columns": null,
            "margin": null,
            "display": null,
            "left": null
          }
        }
      }
    }
  },
  "cells": [
    {
      "cell_type": "code",
      "metadata": {
        "id": "7LzvDiITS-1n"
      },
      "source": [
        "%%capture\n",
        "!pip install datasets"
      ],
      "execution_count": 1,
      "outputs": []
    },
    {
      "cell_type": "code",
      "metadata": {
        "colab": {
          "base_uri": "https://localhost:8080/"
        },
        "id": "MZe8AjuhwR0C",
        "outputId": "e1cbeb2e-3ec6-48f4-b744-4e8a8f344e23"
      },
      "source": [
        "!rm -rf Conditional-Variational-Transformer/\n",
        "!git clone https://github.com/safakkbilici/Conditional-Variational-Transformer\n",
        "!pwd"
      ],
      "execution_count": 2,
      "outputs": [
        {
          "output_type": "stream",
          "name": "stdout",
          "text": [
            "Cloning into 'Conditional-Variational-Transformer'...\n",
            "remote: Enumerating objects: 427, done.\u001b[K\n",
            "remote: Counting objects: 100% (427/427), done.\u001b[K\n",
            "remote: Compressing objects: 100% (311/311), done.\u001b[K\n",
            "remote: Total 427 (delta 237), reused 267 (delta 103), pack-reused 0\u001b[K\n",
            "Receiving objects: 100% (427/427), 25.33 MiB | 17.29 MiB/s, done.\n",
            "Resolving deltas: 100% (237/237), done.\n",
            "/content\n"
          ]
        }
      ]
    },
    {
      "cell_type": "code",
      "metadata": {
        "id": "xTWirQLtwfCG"
      },
      "source": [
        "cd Conditional-Variational-Transformer/"
      ],
      "execution_count": null,
      "outputs": []
    },
    {
      "cell_type": "code",
      "metadata": {
        "id": "nf6lYh_0SncW"
      },
      "source": [
        "import torch\n",
        "import pandas as pd\n",
        "from tqdm.auto import tqdm\n",
        "import json\n",
        "from tokenizer.basic_tokenizer import BasicTokenizer\n",
        "from models.variational_transformer import CVAETransformer\n",
        "from utils.model_utils import sample_from_prior\n",
        "from models.masking import get_subsequent_mask\n",
        "import torch.nn.functional as F\n",
        "import pandas as pd"
      ],
      "execution_count": 10,
      "outputs": []
    },
    {
      "cell_type": "code",
      "metadata": {
        "colab": {
          "base_uri": "https://localhost:8080/"
        },
        "id": "zOElGOwAS7I7",
        "outputId": "b6fcf3a6-fe74-47d7-dfde-76b8c9fd586c"
      },
      "source": [
        "tokenizer = BasicTokenizer()\n",
        "tokenizer.load(\"/content/drive/MyDrive/nova/TCVAE/generate\")\n",
        "\n",
        "with open(f'/content/drive/MyDrive/nova/TCVAE/generate/model_params.json', 'r') as fp:\n",
        "    model_params = json.load(fp)\n",
        "\n",
        "model_params[\"n_src_vocab\"] = 63055\n",
        "model_params[\"n_trg_vocab\"] = 63055\n",
        "device = torch.device(\"cuda\")\n",
        "model = CVAETransformer(**model_params).to(device)\n",
        "model.load_state_dict(torch.load(\"/content/drive/MyDrive/nova/TCVAE/generate/model.pt\"))"
      ],
      "execution_count": 5,
      "outputs": [
        {
          "output_type": "execute_result",
          "data": {
            "text/plain": [
              "<All keys matched successfully>"
            ]
          },
          "metadata": {},
          "execution_count": 5
        }
      ]
    },
    {
      "cell_type": "code",
      "metadata": {
        "colab": {
          "base_uri": "https://localhost:8080/",
          "height": 49,
          "referenced_widgets": [
            "5a563cbedd5a4b678ced37a86ec7f44a",
            "385a0b37b44a4b6fbccfb9175ee6a71a",
            "113235d373d14d78ae55450cd1b243da",
            "58bba3cb914f4adfa8bdedd18665813c",
            "376ebe7ce25d4fe289d927b4efdb587c",
            "c79b275275ff4b4fb9d9329e6bb7fbc6",
            "b4f5557e92c7437682c23ffa8918050d",
            "361f490d9784407699d9f419a3b85ee8",
            "aa59db29a88b4bb5aebd1a65d3185bc9",
            "0f1b6d4ac15d4b8487b2826285df9326",
            "1b47d92f5d644250b850ee7efe18e4ca"
          ]
        },
        "id": "B2d1J_v7TXNt",
        "outputId": "ded0155a-e6f3-4467-bd33-d9f58cae6e71"
      },
      "source": [
        "num_classes = 2\n",
        "num_samples = 2500\n",
        "n_len = 100\n",
        "total = num_classes * num_samples * (n_len - 2)\n",
        "generated = {str(i): [] for i in range(num_classes)}\n",
        "with tqdm(total = total, leave=False, desc='Generation round', position = 0) as gen:\n",
        "    for i in range(num_classes):\n",
        "        for j in range(num_samples):\n",
        "            prior = sample_from_prior(1, model_params[\"latent_size\"], device)\n",
        "            prior[:,0] = i\n",
        "            trg = [tokenizer.start_token_id]\n",
        "            trg_seq = torch.Tensor(trg)[None, :].long().to(device)\n",
        "            with torch.no_grad():\n",
        "                for step in range(2, n_len):\n",
        "                    #model.eval()\n",
        "                    trg_mask = get_subsequent_mask(trg_seq)\n",
        "                    dec_output = model.generate(trg_seq, trg_mask, prior, None)\n",
        "                    gen_seq = F.softmax(model.trg_word_prj(dec_output), dim=-1).squeeze(0).squeeze(0)\n",
        "                    try:\n",
        "                        max_prob = gen_seq[-1,:].argmax(dim = -1)\n",
        "                    except:\n",
        "                        max_prob = gen_seq.argmax(dim = -1)\n",
        "                    trg.append(max_prob.item())\n",
        "                    trg_seq = torch.Tensor(trg)[None, :].long().to(device)\n",
        "                    gen.update()\n",
        "            generated[str(i)].append(' '.join(tokenizer.decode(trg, remove_special_tokens=False)))"
      ],
      "execution_count": null,
      "outputs": [
        {
          "output_type": "display_data",
          "data": {
            "application/vnd.jupyter.widget-view+json": {
              "model_id": "5a563cbedd5a4b678ced37a86ec7f44a",
              "version_minor": 0,
              "version_major": 2
            },
            "text/plain": [
              "Generation round:   0%|          | 0/490000 [00:00<?, ?it/s]"
            ]
          },
          "metadata": {}
        }
      ]
    },
    {
      "cell_type": "code",
      "metadata": {
        "id": "Ofk4eJVKxrX9"
      },
      "source": [
        "def clean(sentence):\n",
        "    special_chars = [\"[START]\", \"[END]\"]\n",
        "    sent = sentence.split()\n",
        "    for token in special_chars:\n",
        "        sent = list(filter((token).__ne__, sent))\n",
        "    sent = ' '.join(sent)\n",
        "    return sent"
      ],
      "execution_count": 13,
      "outputs": []
    },
    {
      "cell_type": "code",
      "metadata": {
        "id": "UM8swVDwTzxA"
      },
      "source": [
        "generated_df = pd.DataFrame({\"0\": generated[\"0\"], \"1\": generated[\"1\"]})\n",
        "generated_df[\"0\"] = generated_df[\"0\"].apply(clean)\n",
        "generated_df[\"1\"] = generated_df[\"1\"].apply(clean)"
      ],
      "execution_count": 14,
      "outputs": []
    },
    {
      "cell_type": "code",
      "metadata": {
        "id": "N7gLWedNyB1S"
      },
      "source": [
        "pd.set_option('display.max_columns', 2)\n",
        "pd.set_option('display.width', 10000)\n",
        "pd.set_option('display.expand_frame_repr', False)\n",
        "pd.set_option('display.max_colwidth', None)"
      ],
      "execution_count": 27,
      "outputs": []
    },
    {
      "cell_type": "code",
      "metadata": {
        "id": "pyjpLXIyUIif",
        "colab": {
          "base_uri": "https://localhost:8080/",
          "height": 869
        },
        "outputId": "865e7e91-ea4f-4859-9af0-cc2bcf8d124a"
      },
      "source": [
        "generated_df.head(10)"
      ],
      "execution_count": 29,
      "outputs": [
        {
          "output_type": "execute_result",
          "data": {
            "text/html": [
              "<div>\n",
              "<style scoped>\n",
              "    .dataframe tbody tr th:only-of-type {\n",
              "        vertical-align: middle;\n",
              "    }\n",
              "\n",
              "    .dataframe tbody tr th {\n",
              "        vertical-align: top;\n",
              "    }\n",
              "\n",
              "    .dataframe thead th {\n",
              "        text-align: right;\n",
              "    }\n",
              "</style>\n",
              "<table border=\"1\" class=\"dataframe\">\n",
              "  <thead>\n",
              "    <tr style=\"text-align: right;\">\n",
              "      <th></th>\n",
              "      <th>0</th>\n",
              "      <th>1</th>\n",
              "    </tr>\n",
              "  </thead>\n",
              "  <tbody>\n",
              "    <tr>\n",
              "      <th>0</th>\n",
              "      <td>This movie is an embarrassment to being made it There are a religious joke or a few things that was given it a Stupid storyline and there are all over the same themes in this film If you are not laughing it you may think that this is a horrible movie I think this one is a very worst movie ever made I think anything has a very bad movie The acting is ridiculous 4 and the performance is far better than the cast is atrocious I believe that others who would be in the first time</td>\n",
              "      <td>I had to see this movie and although I didnt enjoy it If you can think of the best part of the movie takes you once in the second episode when you will never see the movie or something else to come close to creating a mystery and imagination can be a new cultural love story about heaven and the film is that we have to know the story about friendship They are being the lover of the great red herring as we did not know much compassion out loud This is the part of the character</td>\n",
              "    </tr>\n",
              "    <tr>\n",
              "      <th>1</th>\n",
              "      <td>I watched this movie and I thought it was a theatrical release It was mildly entertaining and effective To me the audience was on the storyline The characters arent all around especially considering how they couldnt relate to the characters and make sense of the plot lines that make no sense The characters really interesting plot was just dreadful the plot was just ridiculous The plot was also pathetic The acting was interesting and the directing the editing the actual music was not all the characters and the special effects were practically all the roles of the</td>\n",
              "      <td>This is the second film in the series the nature of the father the Europe of a slow moving but also quickly otherwise a very nice girl who gets attacked by the end of a psychiatrist who has suddenly vanished for no apparent reason Her search leads to a chance for no reason The murders are in style and respect they succeeds at as in the film is hardly in a film In the first ten minutes its appeal All the film is as well as the appeal to the way we see films and the problems</td>\n",
              "    </tr>\n",
              "    <tr>\n",
              "      <th>2</th>\n",
              "      <td>This movie is a good story but it is a good movie The artistic setting are restrained and a brilliant script What was a typical believable Every scene is pretty realistic and a little bit of tension Which is not to be a comedy or if you can tell you the story is taken away from the characters and the ending Think shocking Just like Just that the story was taken away from an disappointment It was a little nudity and the final scene at a quick point plus in this movie the beginning of the movie</td>\n",
              "      <td>I was a lot of the actors and I love this movie Its very curious to see how much longer The reason is the film is probably the best thing about the film is that it has made the characters in this movie The reason I watched it was made and the ending in the first time I believe that there was absolutely no definite must be made and feel for people to watch this movie The movie is very good I would recommend this movie to all comedies people who are SO far away from the</td>\n",
              "    </tr>\n",
              "    <tr>\n",
              "      <th>3</th>\n",
              "      <td>This movie is a real torture fest When I saw it first saw the trailer for this movie was made by some time The violence and special effects are lame Basically the movie is that the only is the worst film I ever seen I have seen the box of the movie is terrible The sound and the film reminded me of my comment is that the old wondering if you sat there to watch this movie I would be a serious movie with a poor special effects and the purpose of making this movie If</td>\n",
              "      <td>I was a kid when I was adopted and had been older I saw it on DVD I was so much older I loved it and loved it Then again after the first time I finally got the least one I was fully disappointed when it came out I was a kid back then I loved it So I was hooked and when I saw it Then when the first time I watched it back when I first saw it in the back I was hooked on the back I had two parents Then the channel will</td>\n",
              "    </tr>\n",
              "    <tr>\n",
              "      <th>4</th>\n",
              "      <td>This movie is a weak script and bad acting is contrived It is just an interesting story It is just a ridiculous story and a very beginning person The movie is ridiculous and it is all the violence I suppose that the characters were all the struggle to put in this movie except for a good movie The director has all of the actors who made this like a good movie but are all over the actors and actresses were all in the scenes I felt like they had a lot of sense and I would have</td>\n",
              "      <td>I have to admit that I found it very much to see Maybe a cut above the movie I have seen all It is a few of the films that have an idea of the people who actually sat there wondering if they would be tired of movies to say that is in this movie is a great movie that I believe that likes to a sibling treat to be a better movie The bizarre characters in this movie The movie is really good and it is a bit slow and watch The characters are well acted</td>\n",
              "    </tr>\n",
              "    <tr>\n",
              "      <th>5</th>\n",
              "      <td>I have to vote average rating it is because I was a fan of the movie I thought it was a meaningful and really funny at all time The actors were unrealistic and they were all of the jokes were not too unreal And you are all the light and lost it The only reason I could not believe that the movie is From there to 3 were a great characters to make sense of the movie were all of the time and the only reason I would not go anywhere we were given the people because</td>\n",
              "      <td>This is the kind of movie that doesnt come out any way or clock to see how to be able to use the room of the Roman republic for years to cry But the film is slow for once the age of a film is edited and cry sometimes even more than others There are not much detail though to watch it for TV show and that you find it is a good example of how you can see it up to the end of the movie is really well done The characters in the movie are</td>\n",
              "    </tr>\n",
              "    <tr>\n",
              "      <th>6</th>\n",
              "      <td>I was a kid boy and I couldnt wait back to waiting something to do it What I do give it a lot of Michael India in it is not a zombie film but its good idea what the characters were all over and the years later I guess the makers of this movie should be going to be a very good movie I watched it through the first time I watched it ripped because of pace but then theres nothing you to do with the fact that the movie is that there are some very little</td>\n",
              "      <td>This movie was very very very good The music was good and the music I love the music was pretty good I enjoyed the whole cast and the plot was OK I liked the whole thing but the characters were very realistic I love the whole time I enjoyed this movie and the acting is so bad and the movie is just a bit of camp The movie really stood for me The cars were so many the characters were pretty good and the movie is so great and I love the movie is pretty good The</td>\n",
              "    </tr>\n",
              "    <tr>\n",
              "      <th>7</th>\n",
              "      <td>This movie was the worst movie I have ever seen If you watch it in the first 5 minutes and the entire movie is being a horrible movie The acting is horrible the actors who actually did not make it work you feel like shooting but the only thing is that the movie makes sense of acting and the ending was all the ending was like the ending and the sky is an amazingly well seriously original you see this is a joke and turn you going to see a movie And oh yourself how</td>\n",
              "      <td>I saw this movie when I was Many of the familiar characters and the story I think that fell in love with a sense of humor This movie It was very well acted with a bunch of story and the usual kung fu doesnt have much much to be different since the end I found it very realistic and the story is well worth the first time you hear the ending of the movie in the connection with the very well and the movie is beautiful and the very interesting characters The movie is very</td>\n",
              "    </tr>\n",
              "    <tr>\n",
              "      <th>8</th>\n",
              "      <td>This is one of those movies that are lame soundtrack because I mean that will be seeing a lot better than I saw this movie for the first time I was wrong with this one I felt the Brain or just to try to tell you the director and I really find it in a movie Or oh it was just meant to be a huge story I really wish I would give it a secret from the box office case the beginning of the movie in this movie despite all the actors who are so</td>\n",
              "      <td>This movie is great to me I am a huge fan of many type of movie and I have to say I was a fan of Peter Ustinov My dad won both Oscar for the part of the other performances and all of the actors and this movie is a while of mine I loved the actors from the beginning to be able to relate to them and the other characters The story is well crafted too much you could get any sort of the wooden parts and the effect I have to admit the movie is</td>\n",
              "    </tr>\n",
              "    <tr>\n",
              "      <th>9</th>\n",
              "      <td>I have seen this movie in a friend of mine since I was very excited when I saw this movie and I also found it to be very disappointed during the movie very much Its very very hard to believe that there was a great MST3K shot in places to the beginning with the director of actors I was angry at all but I also thought they were all the actors I would like to sit there and Because the movie was absolutely no one I wanted to see how I did do enjoy this movie I</td>\n",
              "      <td>I just saw this movie at the theater when I was younger and I was very surprised to see how it was the guy who had a lot of bad things I loved it in this movie The only thing is very cool and I was surprised how it was the best thing I saw that I was in fact I dont think it was able to convey it business the last night I saw it at the first time I remembered that it was as brilliant as the lead as the parents of the soundtrack that</td>\n",
              "    </tr>\n",
              "  </tbody>\n",
              "</table>\n",
              "</div>"
            ],
            "text/plain": [
              "                                                                                                                                                                                                                                                                                                                                                                                                                                                                                                                                                                                          0                                                                                                                                                                                                                                                                                                                                                                                                                                                                                                1\n",
              "0                                                                                            This movie is an embarrassment to being made it There are a religious joke or a few things that was given it a Stupid storyline and there are all over the same themes in this film If you are not laughing it you may think that this is a horrible movie I think this one is a very worst movie ever made I think anything has a very bad movie The acting is ridiculous 4 and the performance is far better than the cast is atrocious I believe that others who would be in the first time  I had to see this movie and although I didnt enjoy it If you can think of the best part of the movie takes you once in the second episode when you will never see the movie or something else to come close to creating a mystery and imagination can be a new cultural love story about heaven and the film is that we have to know the story about friendship They are being the lover of the great red herring as we did not know much compassion out loud This is the part of the character\n",
              "1  I watched this movie and I thought it was a theatrical release It was mildly entertaining and effective To me the audience was on the storyline The characters arent all around especially considering how they couldnt relate to the characters and make sense of the plot lines that make no sense The characters really interesting plot was just dreadful the plot was just ridiculous The plot was also pathetic The acting was interesting and the directing the editing the actual music was not all the characters and the special effects were practically all the roles of the    This is the second film in the series the nature of the father the Europe of a slow moving but also quickly otherwise a very nice girl who gets attacked by the end of a psychiatrist who has suddenly vanished for no apparent reason Her search leads to a chance for no reason The murders are in style and respect they succeeds at as in the film is hardly in a film In the first ten minutes its appeal All the film is as well as the appeal to the way we see films and the problems\n",
              "2                                                                         This movie is a good story but it is a good movie The artistic setting are restrained and a brilliant script What was a typical believable Every scene is pretty realistic and a little bit of tension Which is not to be a comedy or if you can tell you the story is taken away from the characters and the ending Think shocking Just like Just that the story was taken away from an disappointment It was a little nudity and the final scene at a quick point plus in this movie the beginning of the movie         I was a lot of the actors and I love this movie Its very curious to see how much longer The reason is the film is probably the best thing about the film is that it has made the characters in this movie The reason I watched it was made and the ending in the first time I believe that there was absolutely no definite must be made and feel for people to watch this movie The movie is very good I would recommend this movie to all comedies people who are SO far away from the\n",
              "3                                                                                                       This movie is a real torture fest When I saw it first saw the trailer for this movie was made by some time The violence and special effects are lame Basically the movie is that the only is the worst film I ever seen I have seen the box of the movie is terrible The sound and the film reminded me of my comment is that the old wondering if you sat there to watch this movie I would be a serious movie with a poor special effects and the purpose of making this movie If                                                               I was a kid when I was adopted and had been older I saw it on DVD I was so much older I loved it and loved it Then again after the first time I finally got the least one I was fully disappointed when it came out I was a kid back then I loved it So I was hooked and when I saw it Then when the first time I watched it back when I first saw it in the back I was hooked on the back I had two parents Then the channel will\n",
              "4                                                                                            This movie is a weak script and bad acting is contrived It is just an interesting story It is just a ridiculous story and a very beginning person The movie is ridiculous and it is all the violence I suppose that the characters were all the struggle to put in this movie except for a good movie The director has all of the actors who made this like a good movie but are all over the actors and actresses were all in the scenes I felt like they had a lot of sense and I would have                               I have to admit that I found it very much to see Maybe a cut above the movie I have seen all It is a few of the films that have an idea of the people who actually sat there wondering if they would be tired of movies to say that is in this movie is a great movie that I believe that likes to a sibling treat to be a better movie The bizarre characters in this movie The movie is really good and it is a bit slow and watch The characters are well acted\n",
              "5                                                                                                           I have to vote average rating it is because I was a fan of the movie I thought it was a meaningful and really funny at all time The actors were unrealistic and they were all of the jokes were not too unreal And you are all the light and lost it The only reason I could not believe that the movie is From there to 3 were a great characters to make sense of the movie were all of the time and the only reason I would not go anywhere we were given the people because                                              This is the kind of movie that doesnt come out any way or clock to see how to be able to use the room of the Roman republic for years to cry But the film is slow for once the age of a film is edited and cry sometimes even more than others There are not much detail though to watch it for TV show and that you find it is a good example of how you can see it up to the end of the movie is really well done The characters in the movie are\n",
              "6                                                                                                                      I was a kid boy and I couldnt wait back to waiting something to do it What I do give it a lot of Michael India in it is not a zombie film but its good idea what the characters were all over and the years later I guess the makers of this movie should be going to be a very good movie I watched it through the first time I watched it ripped because of pace but then theres nothing you to do with the fact that the movie is that there are some very little                   This movie was very very very good The music was good and the music I love the music was pretty good I enjoyed the whole cast and the plot was OK I liked the whole thing but the characters were very realistic I love the whole time I enjoyed this movie and the acting is so bad and the movie is just a bit of camp The movie really stood for me The cars were so many the characters were pretty good and the movie is so great and I love the movie is pretty good The\n",
              "7                                                                                                        This movie was the worst movie I have ever seen If you watch it in the first 5 minutes and the entire movie is being a horrible movie The acting is horrible the actors who actually did not make it work you feel like shooting but the only thing is that the movie makes sense of acting and the ending was all the ending was like the ending and the sky is an amazingly well seriously original you see this is a joke and turn you going to see a movie And oh yourself how          I saw this movie when I was Many of the familiar characters and the story I think that fell in love with a sense of humor This movie It was very well acted with a bunch of story and the usual kung fu doesnt have much much to be different since the end I found it very realistic and the story is well worth the first time you hear the ending of the movie in the connection with the very well and the movie is beautiful and the very interesting characters The movie is very\n",
              "8                                                                                                                                    This is one of those movies that are lame soundtrack because I mean that will be seeing a lot better than I saw this movie for the first time I was wrong with this one I felt the Brain or just to try to tell you the director and I really find it in a movie Or oh it was just meant to be a huge story I really wish I would give it a secret from the box office case the beginning of the movie in this movie despite all the actors who are so                                        This movie is great to me I am a huge fan of many type of movie and I have to say I was a fan of Peter Ustinov My dad won both Oscar for the part of the other performances and all of the actors and this movie is a while of mine I loved the actors from the beginning to be able to relate to them and the other characters The story is well crafted too much you could get any sort of the wooden parts and the effect I have to admit the movie is\n",
              "9                                                                                                              I have seen this movie in a friend of mine since I was very excited when I saw this movie and I also found it to be very disappointed during the movie very much Its very very hard to believe that there was a great MST3K shot in places to the beginning with the director of actors I was angry at all but I also thought they were all the actors I would like to sit there and Because the movie was absolutely no one I wanted to see how I did do enjoy this movie I                                              I just saw this movie at the theater when I was younger and I was very surprised to see how it was the guy who had a lot of bad things I loved it in this movie The only thing is very cool and I was surprised how it was the best thing I saw that I was in fact I dont think it was able to convey it business the last night I saw it at the first time I remembered that it was as brilliant as the lead as the parents of the soundtrack that"
            ]
          },
          "metadata": {},
          "execution_count": 29
        }
      ]
    },
    {
      "cell_type": "code",
      "metadata": {
        "id": "wDNaXLWaxoLH"
      },
      "source": [
        ""
      ],
      "execution_count": null,
      "outputs": []
    }
  ]
}